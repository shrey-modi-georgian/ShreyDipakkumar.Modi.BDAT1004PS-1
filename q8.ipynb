{
 "cells": [
  {
   "cell_type": "markdown",
   "id": "7e8c2c89",
   "metadata": {},
   "source": [
    "# Question 8"
   ]
  },
  {
   "cell_type": "markdown",
   "id": "4ffe6585",
   "metadata": {},
   "source": [
    "Write a function curconv() that takes as input:\n",
    "1. a currency represented using a string (e.g., 'JPY' for the Japanese Yen or\n",
    "'EUR' for the Euro)\n",
    "2. an amount\n",
    "and then converts and returns the amount in US dollars."
   ]
  },
  {
   "cell_type": "code",
   "execution_count": 1,
   "id": "f9d0e5b2",
   "metadata": {},
   "outputs": [
    {
     "name": "stdout",
     "output_type": "stream",
     "text": [
      "Enter the currency code: INR\n",
      "Enter the amount: 4000\n",
      "The amount in USD is: 71.0572\n"
     ]
    }
   ],
   "source": [
    "def curconv(currency, amount):\n",
    "    try:\n",
    "        # This line to open the file in read mode\n",
    "        with open('currencies.txt', 'r') as file:\n",
    "            for line in file:\n",
    "                # This code is to split the line into currency code, exchange rate, and currency name because of the content of the file\n",
    "                code, rate_str, _ = line.strip().split('\\t')\n",
    "                \n",
    "                # This line is to check if the given currency matches with the file data\n",
    "                if code == currency:\n",
    "                    # This line is to convert the amount to USD using the exchange rate\n",
    "                    usd_amount = float(rate_str) * amount\n",
    "                    return usd_amount\n",
    "\n",
    "        # If the currency is not found\n",
    "        print(f\"Error: Currency '{currency}' not found.\")\n",
    "        return None\n",
    "\n",
    "    except ValueError:\n",
    "        print(\"Error: Invalid format in currency file.\")\n",
    "        return None\n",
    "\n",
    "\n",
    "currency_input = input(\"Enter the currency code: \")\n",
    "currency_input = currency_input.upper()\n",
    "amount_input = float(input(\"Enter the amount: \"))\n",
    "\n",
    "\n",
    "result = curconv(currency_input, amount_input)\n",
    "\n",
    "if result is not None:\n",
    "    print(f\"The amount in USD is: {result}\")\n"
   ]
  }
 ],
 "metadata": {
  "kernelspec": {
   "display_name": "Python 3 (ipykernel)",
   "language": "python",
   "name": "python3"
  },
  "language_info": {
   "codemirror_mode": {
    "name": "ipython",
    "version": 3
   },
   "file_extension": ".py",
   "mimetype": "text/x-python",
   "name": "python",
   "nbconvert_exporter": "python",
   "pygments_lexer": "ipython3",
   "version": "3.11.5"
  }
 },
 "nbformat": 4,
 "nbformat_minor": 5
}
