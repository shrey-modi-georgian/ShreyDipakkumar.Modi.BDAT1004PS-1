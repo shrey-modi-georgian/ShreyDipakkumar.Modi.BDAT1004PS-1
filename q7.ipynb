{
 "cells": [
  {
   "cell_type": "markdown",
   "id": "ae4b9a42",
   "metadata": {},
   "source": [
    "# Question 7"
   ]
  },
  {
   "cell_type": "markdown",
   "id": "5dd4176f",
   "metadata": {},
   "source": [
    "File bloodtype1.txt records blood-types of patients (A, B, AB, O or OO) at a clinic.\n",
    "Write a function bldcount() that reads the file with name name and reports (i.e.,\n",
    "prints) how many patients there are in each bloodtype.\n"
   ]
  },
  {
   "cell_type": "markdown",
   "id": "fe3998c1",
   "metadata": {},
   "source": [
    "Reference links :- \n"
   ]
  },
  {
   "cell_type": "markdown",
   "id": "5ddba08c",
   "metadata": {},
   "source": [
    "https://codereview.stackexchange.com/questions/109537/reading-a-file-in-python"
   ]
  },
  {
   "cell_type": "markdown",
   "id": "80945d22",
   "metadata": {},
   "source": [
    "https://stackoverflow.com/questions/19508703/how-to-open-a-file-through-python#:~:text=You%20can%20easily%20pass%20the,the%20lines%20to%20a%20variable."
   ]
  },
  {
   "cell_type": "code",
   "execution_count": 1,
   "id": "b02bdd02",
   "metadata": {},
   "outputs": [
    {
     "name": "stdout",
     "output_type": "stream",
     "text": [
      "Blood type A: 15 patients\n",
      "Blood type B: 1 patients\n",
      "Blood type AB: 13 patients\n",
      "Blood type O: 15 patients\n",
      "Blood type OO: 0 patients\n"
     ]
    }
   ],
   "source": [
    "def bldcount(fname):\n",
    "    # This line is to initialize a dictionary with all blood groups with 0\n",
    "    blood_type_count = {'A': 0, 'B': 0, 'AB': 0, 'O': 0, 'OO': 0}\n",
    "\n",
    "    # This line is to open the file in read mode\n",
    "    with open(fname, 'r') as file:\n",
    "        content = file.read()\n",
    "\n",
    "        # This line is to split the content into a list of blood types because of the contents of the file\n",
    "        blood_types = content.split()\n",
    "\n",
    "        # This code is to update the count in the dictionary\n",
    "        for blood_type in blood_types:\n",
    "            blood_type = blood_type.upper()\n",
    "            if blood_type in blood_type_count:\n",
    "                blood_type_count[blood_type] += 1\n",
    "            else:\n",
    "                print(f\"Illegal blood type found: {blood_type}\")\n",
    "\n",
    "    for blood_type, count in blood_type_count.items():\n",
    "        print(f\"Blood type {blood_type}: {count} patients\")\n",
    "\n",
    "bldcount('bloodtype1.txt')\n"
   ]
  }
 ],
 "metadata": {
  "kernelspec": {
   "display_name": "Python 3 (ipykernel)",
   "language": "python",
   "name": "python3"
  },
  "language_info": {
   "codemirror_mode": {
    "name": "ipython",
    "version": 3
   },
   "file_extension": ".py",
   "mimetype": "text/x-python",
   "name": "python",
   "nbconvert_exporter": "python",
   "pygments_lexer": "ipython3",
   "version": "3.11.5"
  }
 },
 "nbformat": 4,
 "nbformat_minor": 5
}
