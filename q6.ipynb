{
 "cells": [
  {
   "cell_type": "markdown",
   "id": "ea6b0fde",
   "metadata": {},
   "source": [
    "# Question 6"
   ]
  },
  {
   "cell_type": "markdown",
   "id": "0eeb5cb9",
   "metadata": {},
   "source": [
    "You can turn a word into pig-Latin using the following two rules (simplified):\n",
    "• If the word starts with a consonant, move that letter to the end and append\n",
    "'ay'. For example, 'happy' becomes 'appyhay' and 'pencil' becomes 'encilpay'.\n",
    "• If the word starts with a vowel, simply append 'way' to the end of the word.\n",
    "For example, 'enter' becomes 'enterway' and 'other' becomes 'otherway' . For\n",
    "our purposes, there are 5 vowels: a, e, i, o, u (so we count y as a consonant).\n",
    "Write a function pig() that takes a word (i.e., a string) as input and returns its pigLatin form. Your function should still work if the input word contains upper case\n",
    "characters. Your output should always be lower case however. "
   ]
  },
  {
   "cell_type": "code",
   "execution_count": 1,
   "id": "83aecbbb",
   "metadata": {},
   "outputs": [
    {
     "name": "stdout",
     "output_type": "stream",
     "text": [
      "Enter a word: happy\n",
      "pig('happy')\n",
      "'appyhay'\n"
     ]
    }
   ],
   "source": [
    "def pig(word):\n",
    "    # This line is to convert the input to lower case\n",
    "    word = word.lower()\n",
    "    \n",
    "    # This line to check if given input starts with a vowel or not\n",
    "    if word[0] in ['a', 'e', 'i', 'o', 'u']:\n",
    "        return f\"pig('{word}')\\n'{word}way'\"\n",
    "    else:\n",
    "        return f\"pig('{word}')\\n'{word[1:]}{word[0]}ay'\"\n",
    "\n",
    "input_word = input(\"Enter a word: \")\n",
    "result = pig(input_word)\n",
    "print(result)"
   ]
  }
 ],
 "metadata": {
  "kernelspec": {
   "display_name": "Python 3 (ipykernel)",
   "language": "python",
   "name": "python3"
  },
  "language_info": {
   "codemirror_mode": {
    "name": "ipython",
    "version": 3
   },
   "file_extension": ".py",
   "mimetype": "text/x-python",
   "name": "python",
   "nbconvert_exporter": "python",
   "pygments_lexer": "ipython3",
   "version": "3.11.5"
  }
 },
 "nbformat": 4,
 "nbformat_minor": 5
}
