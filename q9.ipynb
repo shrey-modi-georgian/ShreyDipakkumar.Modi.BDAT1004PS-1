{
 "cells": [
  {
   "cell_type": "markdown",
   "id": "4bad5804",
   "metadata": {},
   "source": [
    "# Question 9"
   ]
  },
  {
   "cell_type": "markdown",
   "id": "8bce6ea7",
   "metadata": {},
   "source": [
    "Each of the following will cause an exception (an error). Identify what type of\n",
    "exception each will cause.\n"
   ]
  },
  {
   "cell_type": "raw",
   "id": "3d1e5dce",
   "metadata": {},
   "source": [
    "1.Trying to add incompatible variables, as in\n",
    "adding 6 + ‘a’\n",
    "Ans:- It will throw a TypeError as python does not support adding int to string\n",
    "\n",
    "2.Referring to the 12th item of a list that has only 10\n",
    "items\n",
    "Ans:- It will throw an IndexError as 12th does not exist in 10 items list\n",
    "\n",
    "3.Using a value that is out of range for a function’s\n",
    "input, such as calling math.sqrt(-1.0)\n",
    "Ans:- It will throw a ValueError as square root of negative number is not defined\n",
    "\n",
    "4.Using an undeclared variable, such as print(x)\n",
    "when x has not been defined\n",
    "Ans:- It will throw a NameError as there is no value assinged to variable x\n",
    "\n",
    "5.Trying to open a file that does not exist, such as\n",
    "mistyping the file name or looking in the wrong\n",
    "directory.\n",
    "Ans:-It will throw a FileNotFoundError as the specified file dows not exist in given location"
   ]
  }
 ],
 "metadata": {
  "kernelspec": {
   "display_name": "Python 3 (ipykernel)",
   "language": "python",
   "name": "python3"
  },
  "language_info": {
   "codemirror_mode": {
    "name": "ipython",
    "version": 3
   },
   "file_extension": ".py",
   "mimetype": "text/x-python",
   "name": "python",
   "nbconvert_exporter": "python",
   "pygments_lexer": "ipython3",
   "version": "3.11.5"
  }
 },
 "nbformat": 4,
 "nbformat_minor": 5
}
